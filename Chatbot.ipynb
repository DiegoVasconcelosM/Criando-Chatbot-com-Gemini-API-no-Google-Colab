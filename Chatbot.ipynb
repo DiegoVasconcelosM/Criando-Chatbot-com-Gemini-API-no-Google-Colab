{
  "cells": [
    {
      "cell_type": "markdown",
      "metadata": {
        "id": "view-in-github",
        "colab_type": "text"
      },
      "source": [
        "<a href=\"https://colab.research.google.com/github/DiegoVasconcelosM/Criando-Chatbot-com-Gemini-API-no-Google-Colab/blob/main/Chatbot.ipynb\" target=\"_parent\"><img src=\"https://colab.research.google.com/assets/colab-badge.svg\" alt=\"Open In Colab\"/></a>"
      ]
    },
    {
      "cell_type": "markdown",
      "metadata": {
        "id": "lPrJV2KVXKk-"
      },
      "source": [
        "Instalando o sdk do Google"
      ]
    },
    {
      "cell_type": "code",
      "execution_count": null,
      "metadata": {
        "id": "FPXGTc1RW45B",
        "colab": {
          "base_uri": "https://localhost:8080/"
        },
        "outputId": "c2f4d26b-ac57-4043-c91e-89be03221def"
      },
      "outputs": [
        {
          "output_type": "stream",
          "name": "stdout",
          "text": [
            "\u001b[2K     \u001b[90m━━━━━━━━━━━━━━━━━━━━━━━━━━━━━━━━━━━━━━━━\u001b[0m \u001b[32m163.9/163.9 kB\u001b[0m \u001b[31m1.8 MB/s\u001b[0m eta \u001b[36m0:00:00\u001b[0m\n",
            "\u001b[2K     \u001b[90m━━━━━━━━━━━━━━━━━━━━━━━━━━━━━━━━━━━━━━━━\u001b[0m \u001b[32m718.3/718.3 kB\u001b[0m \u001b[31m8.0 MB/s\u001b[0m eta \u001b[36m0:00:00\u001b[0m\n",
            "\u001b[?25h"
          ]
        }
      ],
      "source": [
        "!pip install -q -U google-generativeai"
      ]
    },
    {
      "cell_type": "code",
      "execution_count": null,
      "metadata": {
        "id": "CZSpr4QezPfR"
      },
      "outputs": [],
      "source": [
        "import google.generativeai as genai\n",
        "from google.colab import userdata\n",
        "api_key = userdata.get('SECRET_KEY')\n",
        "genai.configure(api_key=api_key)"
      ]
    },
    {
      "cell_type": "code",
      "source": [
        "for m in genai.list_models():\n",
        "  if 'generateContent' in m.supported_generation_methods:\n",
        "    print(m.name)"
      ],
      "metadata": {
        "id": "qJHGMwDPpMnq"
      },
      "execution_count": null,
      "outputs": []
    },
    {
      "cell_type": "markdown",
      "metadata": {
        "id": "lHxqtpSKzaLp"
      },
      "source": [
        "Listar os modelos disponíveis"
      ]
    },
    {
      "cell_type": "code",
      "execution_count": null,
      "metadata": {
        "id": "XJWWzu6P0Wb9"
      },
      "outputs": [],
      "source": [
        "generation_config = {\n",
        "    \"candidate_count\": 1,\n",
        "    \"temperature\": 0.5,\n",
        "\n",
        "}"
      ]
    },
    {
      "cell_type": "code",
      "execution_count": null,
      "metadata": {
        "id": "FeuGL1b433NG"
      },
      "outputs": [],
      "source": [
        "safety_settings = {\n",
        "    \"HARASSMENT\": \"block_none\",\n",
        "    \"HATE\": \"block_none\",\n",
        "    \"SEXUAL\": \"block_none\",\n",
        "    \"DANGEROUS\": \"block_none\",\n",
        "\n",
        "}"
      ]
    },
    {
      "cell_type": "markdown",
      "metadata": {
        "id": "2hOurBwX5WdR"
      },
      "source": [
        "Inicializando o modelo"
      ]
    },
    {
      "cell_type": "code",
      "execution_count": null,
      "metadata": {
        "id": "aeiH_mHwUwVq"
      },
      "outputs": [],
      "source": [
        "model = genai.GenerativeModel(model_name=\"gemini-1.0-pro\",\n",
        "                              generation_config=generation_config,\n",
        "                              safety_settings=safety_settings)"
      ]
    },
    {
      "cell_type": "code",
      "execution_count": null,
      "metadata": {
        "colab": {
          "base_uri": "https://localhost:8080/",
          "height": 766
        },
        "collapsed": true,
        "id": "fES0OjC5YLGw",
        "outputId": "c315d814-2f70-4747-f6e3-23c3641bdcbd"
      },
      "outputs": [
        {
          "output_type": "stream",
          "name": "stdout",
          "text": [
            "**Conceitos Fundamentais:**\n",
            "\n",
            "* Definição e história da Inteligência Artificial (IA)\n",
            "* Tipos de IA: IA Fraca, IA Forte e IA Geral\n",
            "* Aprendizado de Máquina (ML), Aprendizado Profundo (DL) e Aprendizado por Reforço (RL)\n",
            "* Redes Neurais e Processamento de Linguagem Natural (PNL)\n",
            "\n",
            "**Aplicações da IA:**\n",
            "\n",
            "* Reconhecimento de Imagem e Vídeo\n",
            "* Processamento de Linguagem Natural (PNL) e Chatbots\n",
            "* Diagnóstico Médico e Ciência da Saúde\n",
            "* Veículos Autônomos e Robótica\n",
            "* Finanças e Previsão Econômica\n",
            "\n",
            "**Ética e Implicações Sociais da IA:**\n",
            "\n",
            "* Viés e Discriminação em Algoritmos de IA\n",
            "* Privacidade e Segurança de Dados\n",
            "* Impacto no Emprego e Desigualdade Social\n",
            "* Regulamentação e Políticas de IA\n",
            "\n",
            "**Ferramentas e Tecnologias de IA:**\n",
            "\n",
            "* Bibliotecas de IA populares (por exemplo, TensorFlow, PyTorch)\n",
            "* Plataformas de Nuvem para IA (por exemplo, AWS, Azure, GCP)\n",
            "* Ferramentas de Visualização e Interpretação de Dados\n",
            "* Computação de Alto Desempenho (HPC) e Computação em Nuvem\n",
            "\n",
            "**Tendências e Avanços da IA:**\n",
            "\n",
            "* IA Generativa (por exemplo, GPT-3, DALL-E 2)\n",
            "* IA Explicável e Interpretável\n",
            "* IA em Borda e Computação de Borda\n",
            "* IA Quântica e Computação Quântica\n",
            "\n",
            "**Recursos Adicionais:**\n",
            "\n",
            "* [Coursera: Especialização em Aprendizado de Máquina](https://www.coursera.org/specializations/machine-learning)\n",
            "* [edX: Curso de Introdução à Inteligência Artificial](https://www.edx.org/course/introduction-artificial-intelligence)\n",
            "* [MIT OpenCourseWare: Curso de Inteligência Artificial](https://ocw.mit.edu/courses/electrical-engineering-and-computer-science/6-034-artificial-intelligence-fall-2010/)\n",
            "* [Livro: Inteligência Artificial: Uma Abordagem Moderna](https://www.amazon.com/Artificial-Intelligence-Modern-Approach-3rd/dp/0136042597)\n"
          ]
        }
      ],
      "source": [
        "response = model.generate_content(\"Vamos aprender conteúdos sobre IA. Me dê sugestões.\")\n",
        "print(response.text)"
      ]
    },
    {
      "cell_type": "code",
      "execution_count": null,
      "metadata": {
        "id": "KMadedCFYh69"
      },
      "outputs": [],
      "source": [
        "chat = model.start_chat(history=[])"
      ]
    },
    {
      "cell_type": "code",
      "execution_count": null,
      "metadata": {
        "collapsed": true,
        "id": "T897VLPdZBsz"
      },
      "outputs": [],
      "source": [
        "prompt = input(\"Esperando o prompt: \")\n",
        "\n",
        "while prompt != \"fim\":\n",
        "  response = chat.send_message(prompt)\n",
        "  print(\"Resposta: \", response.text, \"\\n\")\n",
        "  prompt = input(\"Esperando o prompt: \")"
      ]
    },
    {
      "cell_type": "code",
      "source": [
        "# Melhorando a visualização\n",
        "import textwrap\n",
        "from  IPython.display import display\n",
        "from  IPython.display import Markdown\n",
        "\n",
        "def to_markdown(text):\n",
        "    text = text.replace('*', '  *')\n",
        "    return Markdown(textwrap.indent(text, '>  ', predicate=lambda _: True))\n",
        "\n",
        "# Imprimindo o histórico\n",
        "for message in chat.history:\n",
        "  display(to_markdown(f'**{message.role})**: {message.parts[0].text}'))\n",
        "  print('----------/------------/----------/---------')\n",
        "\n",
        "\n",
        "\n"
      ],
      "metadata": {
        "colab": {
          "base_uri": "https://localhost:8080/",
          "height": 1000
        },
        "id": "nBXrYMcNv5F7",
        "outputId": "3353dc03-ccff-4af0-ad70-462e9b6f5968"
      },
      "execution_count": 49,
      "outputs": [
        {
          "output_type": "display_data",
          "data": {
            "text/plain": [
              "<IPython.core.display.Markdown object>"
            ],
            "text/markdown": ">    *  *user)  *  *: Qual a capital do japão ?"
          },
          "metadata": {}
        },
        {
          "output_type": "stream",
          "name": "stdout",
          "text": [
            "----------/------------/----------/---------\n"
          ]
        },
        {
          "output_type": "display_data",
          "data": {
            "text/plain": [
              "<IPython.core.display.Markdown object>"
            ],
            "text/markdown": ">    *  *model)  *  *: Tóquio"
          },
          "metadata": {}
        },
        {
          "output_type": "stream",
          "name": "stdout",
          "text": [
            "----------/------------/----------/---------\n"
          ]
        },
        {
          "output_type": "display_data",
          "data": {
            "text/plain": [
              "<IPython.core.display.Markdown object>"
            ],
            "text/markdown": ">    *  *user)  *  *: Quantos habitantes há em Tóquio?"
          },
          "metadata": {}
        },
        {
          "output_type": "stream",
          "name": "stdout",
          "text": [
            "----------/------------/----------/---------\n"
          ]
        },
        {
          "output_type": "display_data",
          "data": {
            "text/plain": [
              "<IPython.core.display.Markdown object>"
            ],
            "text/markdown": ">    *  *model)  *  *: Cerca de 14 milhões (estimativa de 2023)"
          },
          "metadata": {}
        },
        {
          "output_type": "stream",
          "name": "stdout",
          "text": [
            "----------/------------/----------/---------\n"
          ]
        },
        {
          "output_type": "display_data",
          "data": {
            "text/plain": [
              "<IPython.core.display.Markdown object>"
            ],
            "text/markdown": ">    *  *user)  *  *: Olá, comento muita energia ?"
          },
          "metadata": {}
        },
        {
          "output_type": "stream",
          "name": "stdout",
          "text": [
            "----------/------------/----------/---------\n"
          ]
        },
        {
          "output_type": "display_data",
          "data": {
            "text/plain": [
              "<IPython.core.display.Markdown object>"
            ],
            "text/markdown": ">    *  *model)  *  *:   *  *Fontes de Energia Renovável:  *  *\n>  \n>    *   *  *Energia Solar:  *  * Captura a luz solar e a converte em eletricidade.\n>    *   *  *Energia Eólica:  *  * Usa turbinas para converter a energia cinética do vento em eletricidade.\n>    *   *  *Energia Hidrelétrica:  *  * Usa a força da água corrente ou em queda para gerar eletricidade.\n>    *   *  *Energia Geotérmica:  *  * Aproveita o calor do interior da Terra para gerar eletricidade ou aquecer edifícios.\n>    *   *  *Energia das Marés:  *  * Usa o movimento das marés para gerar eletricidade.\n>    *   *  *Biomassa:  *  * Converte matéria orgânica (como madeira, resíduos agrícolas e lixo) em energia.\n>  \n>    *  *Fontes de Energia Não Renovável:  *  *\n>  \n>    *   *  *Combustíveis Fósseis (Carvão, Petróleo, Gás Natural):  *  * Queimados para gerar calor ou eletricidade.\n>    *   *  *Energia Nuclear:  *  * Usa a fissão nuclear para gerar calor, que é então usado para gerar eletricidade.\n>  \n>    *  *Outras Fontes de Energia:  *  *\n>  \n>    *   *  *Baterias:  *  * Armazenam energia elétrica para uso posterior.\n>    *   *  *Pilhas de Combustível:  *  * Convertem combustível (como hidrogênio) em eletricidade.\n>    *   *  *Energia Muscular:  *  * Energia gerada pelo movimento humano."
          },
          "metadata": {}
        },
        {
          "output_type": "stream",
          "name": "stdout",
          "text": [
            "----------/------------/----------/---------\n"
          ]
        },
        {
          "output_type": "display_data",
          "data": {
            "text/plain": [
              "<IPython.core.display.Markdown object>"
            ],
            "text/markdown": ">    *  *user)  *  *: Qual o primeiro evento histórico de monstros biblícos ?"
          },
          "metadata": {}
        },
        {
          "output_type": "stream",
          "name": "stdout",
          "text": [
            "----------/------------/----------/---------\n"
          ]
        },
        {
          "output_type": "display_data",
          "data": {
            "text/plain": [
              "<IPython.core.display.Markdown object>"
            ],
            "text/markdown": ">    *  *model)  *  *: O primeiro evento histórico de monstros bíblicos é o   *  *Dilúvio  *  *, conforme descrito no livro de Gênesis.\n>  \n>    *  *Gênesis 6-8  *  *\n>  \n>    * Deus envia um dilúvio para destruir a Terra devido à maldade da humanidade.\n>    * Noé, um homem justo, é instruído a construir uma arca para salvar sua família e pares de todos os animais.\n>    * A chuva cai por 40 dias e 40 noites, inundando toda a Terra.\n>    * A arca de Noé flutua sobre as águas, preservando a vida dentro dela.\n>    * Após 150 dias, as águas recuam e a arca pousa no Monte Ararate.\n>    * Noé e sua família saem da arca e repovoam a Terra.\n>  \n>  O Dilúvio é visto como um evento histórico significativo na Bíblia, pois destruiu a antiga ordem mundial e deu início a uma nova. Também é visto como um símbolo do julgamento de Deus sobre o pecado e da sua misericórdia para com aqueles que o seguem."
          },
          "metadata": {}
        },
        {
          "output_type": "stream",
          "name": "stdout",
          "text": [
            "----------/------------/----------/---------\n"
          ]
        },
        {
          "output_type": "display_data",
          "data": {
            "text/plain": [
              "<IPython.core.display.Markdown object>"
            ],
            "text/markdown": ">    *  *user)  *  *: Qual a capital da coreia do sul ?"
          },
          "metadata": {}
        },
        {
          "output_type": "stream",
          "name": "stdout",
          "text": [
            "----------/------------/----------/---------\n"
          ]
        },
        {
          "output_type": "display_data",
          "data": {
            "text/plain": [
              "<IPython.core.display.Markdown object>"
            ],
            "text/markdown": ">    *  *model)  *  *: Seul"
          },
          "metadata": {}
        },
        {
          "output_type": "stream",
          "name": "stdout",
          "text": [
            "----------/------------/----------/---------\n"
          ]
        },
        {
          "output_type": "display_data",
          "data": {
            "text/plain": [
              "<IPython.core.display.Markdown object>"
            ],
            "text/markdown": ">    *  *user)  *  *: quantos habitantes existem em seul ?"
          },
          "metadata": {}
        },
        {
          "output_type": "stream",
          "name": "stdout",
          "text": [
            "----------/------------/----------/---------\n"
          ]
        },
        {
          "output_type": "display_data",
          "data": {
            "text/plain": [
              "<IPython.core.display.Markdown object>"
            ],
            "text/markdown": ">    *  *model)  *  *: Cerca de 9,9 milhões (estimativa de 2023)"
          },
          "metadata": {}
        },
        {
          "output_type": "stream",
          "name": "stdout",
          "text": [
            "----------/------------/----------/---------\n"
          ]
        },
        {
          "output_type": "display_data",
          "data": {
            "text/plain": [
              "<IPython.core.display.Markdown object>"
            ],
            "text/markdown": ">    *  *user)  *  *: qual a comida mais popular de seul ?"
          },
          "metadata": {}
        },
        {
          "output_type": "stream",
          "name": "stdout",
          "text": [
            "----------/------------/----------/---------\n"
          ]
        },
        {
          "output_type": "display_data",
          "data": {
            "text/plain": [
              "<IPython.core.display.Markdown object>"
            ],
            "text/markdown": ">    *  *model)  *  *:   *  *Kimchi  *  *\n>  \n>  O kimchi é um prato tradicional coreano feito de repolho fermentado e outros vegetais, como rabanete, cebolinha e alho. É temperado com uma pasta picante feita de pimenta vermelha em pó, alho, gengibre e molho de peixe. O kimchi é servido como acompanhamento em quase todas as refeições na Coreia do Sul e também é usado como ingrediente em muitos outros pratos, como sopas, ensopados e panquecas."
          },
          "metadata": {}
        },
        {
          "output_type": "stream",
          "name": "stdout",
          "text": [
            "----------/------------/----------/---------\n"
          ]
        },
        {
          "output_type": "display_data",
          "data": {
            "text/plain": [
              "<IPython.core.display.Markdown object>"
            ],
            "text/markdown": ">    *  *user)  *  *: Qual é a capital do Japão ?"
          },
          "metadata": {}
        },
        {
          "output_type": "stream",
          "name": "stdout",
          "text": [
            "----------/------------/----------/---------\n"
          ]
        },
        {
          "output_type": "display_data",
          "data": {
            "text/plain": [
              "<IPython.core.display.Markdown object>"
            ],
            "text/markdown": ">    *  *model)  *  *: Tóquio"
          },
          "metadata": {}
        },
        {
          "output_type": "stream",
          "name": "stdout",
          "text": [
            "----------/------------/----------/---------\n"
          ]
        },
        {
          "output_type": "display_data",
          "data": {
            "text/plain": [
              "<IPython.core.display.Markdown object>"
            ],
            "text/markdown": ">    *  *user)  *  *: Qual é o número de habitantes de Tóquio?"
          },
          "metadata": {}
        },
        {
          "output_type": "stream",
          "name": "stdout",
          "text": [
            "----------/------------/----------/---------\n"
          ]
        },
        {
          "output_type": "display_data",
          "data": {
            "text/plain": [
              "<IPython.core.display.Markdown object>"
            ],
            "text/markdown": ">    *  *model)  *  *: Cerca de 14 milhões (estimativa de 2023)"
          },
          "metadata": {}
        },
        {
          "output_type": "stream",
          "name": "stdout",
          "text": [
            "----------/------------/----------/---------\n"
          ]
        },
        {
          "output_type": "display_data",
          "data": {
            "text/plain": [
              "<IPython.core.display.Markdown object>"
            ],
            "text/markdown": ">    *  *user)  *  *: Qual é a culinária mais famosa de Tóquio?"
          },
          "metadata": {}
        },
        {
          "output_type": "stream",
          "name": "stdout",
          "text": [
            "----------/------------/----------/---------\n"
          ]
        },
        {
          "output_type": "display_data",
          "data": {
            "text/plain": [
              "<IPython.core.display.Markdown object>"
            ],
            "text/markdown": ">    *  *model)  *  *:   *  *Sushi  *  *\n>  \n>  O sushi é um prato japonês tradicional feito com arroz avinagrado combinado com vários ingredientes, como frutos do mar, vegetais e ovos. É geralmente servido com molho de soja, wasabi e gengibre em conserva. O sushi é um alimento básico da culinária japonesa e é apreciado em todo o mundo."
          },
          "metadata": {}
        },
        {
          "output_type": "stream",
          "name": "stdout",
          "text": [
            "----------/------------/----------/---------\n"
          ]
        },
        {
          "output_type": "display_data",
          "data": {
            "text/plain": [
              "<IPython.core.display.Markdown object>"
            ],
            "text/markdown": ">    *  *user)  *  *: E o centro histórico mais visitado de Tóquio?"
          },
          "metadata": {}
        },
        {
          "output_type": "stream",
          "name": "stdout",
          "text": [
            "----------/------------/----------/---------\n"
          ]
        },
        {
          "output_type": "display_data",
          "data": {
            "text/plain": [
              "<IPython.core.display.Markdown object>"
            ],
            "text/markdown": ">    *  *model)  *  *:   *  *Asakusa  *  *\n>  \n>  Asakusa é um bairro histórico e um dos destinos turísticos mais populares de Tóquio. É conhecido pelo Templo Senso-ji, o templo budista mais antigo de Tóquio, e pela Nakamise-dori, uma rua comercial tradicional que leva ao templo. Asakusa também abriga muitos outros pontos turísticos, como o Museu Edo-Tóquio, o Parque Sumida e o Tokyo Skytree."
          },
          "metadata": {}
        },
        {
          "output_type": "stream",
          "name": "stdout",
          "text": [
            "----------/------------/----------/---------\n"
          ]
        }
      ]
    }
  ],
  "metadata": {
    "colab": {
      "provenance": [],
      "authorship_tag": "ABX9TyP7ABxptoecMQPYFlnVv8nW",
      "include_colab_link": true
    },
    "kernelspec": {
      "display_name": "Python 3",
      "name": "python3"
    },
    "language_info": {
      "name": "python"
    }
  },
  "nbformat": 4,
  "nbformat_minor": 0
}