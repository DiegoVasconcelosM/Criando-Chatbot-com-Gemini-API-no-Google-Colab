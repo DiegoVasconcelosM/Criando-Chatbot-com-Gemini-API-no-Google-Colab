{
  "cells": [
    {
      "cell_type": "markdown",
      "metadata": {
        "id": "view-in-github",
        "colab_type": "text"
      },
      "source": [
        "<a href=\"https://colab.research.google.com/github/DiegoVasconcelosM/Criando-Chatbot-com-Gemini-API-no-Google-Colab/blob/main/Chatbot.ipynb\" target=\"_parent\"><img src=\"https://colab.research.google.com/assets/colab-badge.svg\" alt=\"Open In Colab\"/></a>"
      ]
    },
    {
      "cell_type": "markdown",
      "metadata": {
        "id": "lPrJV2KVXKk-"
      },
      "source": [
        "Instalando o sdk do Google"
      ]
    },
    {
      "cell_type": "code",
      "execution_count": null,
      "metadata": {
        "id": "FPXGTc1RW45B",
        "colab": {
          "base_uri": "https://localhost:8080/"
        },
        "outputId": "c2f4d26b-ac57-4043-c91e-89be03221def"
      },
      "outputs": [
        {
          "output_type": "stream",
          "name": "stdout",
          "text": [
            "\u001b[2K     \u001b[90m━━━━━━━━━━━━━━━━━━━━━━━━━━━━━━━━━━━━━━━━\u001b[0m \u001b[32m163.9/163.9 kB\u001b[0m \u001b[31m1.8 MB/s\u001b[0m eta \u001b[36m0:00:00\u001b[0m\n",
            "\u001b[2K     \u001b[90m━━━━━━━━━━━━━━━━━━━━━━━━━━━━━━━━━━━━━━━━\u001b[0m \u001b[32m718.3/718.3 kB\u001b[0m \u001b[31m8.0 MB/s\u001b[0m eta \u001b[36m0:00:00\u001b[0m\n",
            "\u001b[?25h"
          ]
        }
      ],
      "source": [
        "!pip install -q -U google-generativeai"
      ]
    },
    {
      "cell_type": "code",
      "execution_count": 39,
      "metadata": {
        "id": "CZSpr4QezPfR"
      },
      "outputs": [],
      "source": [
        "import google.generativeai as genai\n",
        "from google.colab import userdata\n",
        "api_key = userdata.get('SECRET_KEY')\n",
        "genai.configure(api_key=api_key)"
      ]
    },
    {
      "cell_type": "code",
      "source": [
        "for m in genai.list_models():\n",
        "  if 'generateContent' in m.supported_generation_methods:\n",
        "    print(m.name)"
      ],
      "metadata": {
        "id": "qJHGMwDPpMnq"
      },
      "execution_count": null,
      "outputs": []
    },
    {
      "cell_type": "markdown",
      "metadata": {
        "id": "lHxqtpSKzaLp"
      },
      "source": [
        "Listar os modelos disponíveis"
      ]
    },
    {
      "cell_type": "code",
      "execution_count": null,
      "metadata": {
        "id": "XJWWzu6P0Wb9"
      },
      "outputs": [],
      "source": [
        "generation_config = {\n",
        "    \"candidate_count\": 1,\n",
        "    \"temperature\": 0.5,\n",
        "\n",
        "}"
      ]
    },
    {
      "cell_type": "code",
      "execution_count": null,
      "metadata": {
        "id": "FeuGL1b433NG"
      },
      "outputs": [],
      "source": [
        "safety_settings = {\n",
        "    \"HARASSMENT\": \"block_none\",\n",
        "    \"HATE\": \"block_none\",\n",
        "    \"SEXUAL\": \"block_none\",\n",
        "    \"DANGEROUS\": \"block_none\",\n",
        "\n",
        "}"
      ]
    },
    {
      "cell_type": "markdown",
      "metadata": {
        "id": "2hOurBwX5WdR"
      },
      "source": [
        "Inicializando o modelo"
      ]
    },
    {
      "cell_type": "code",
      "execution_count": null,
      "metadata": {
        "id": "aeiH_mHwUwVq"
      },
      "outputs": [],
      "source": [
        "model = genai.GenerativeModel(model_name=\"gemini-1.0-pro\",\n",
        "                              generation_config=generation_config,\n",
        "                              safety_settings=safety_settings)"
      ]
    },
    {
      "cell_type": "code",
      "execution_count": null,
      "metadata": {
        "colab": {
          "base_uri": "https://localhost:8080/",
          "height": 766
        },
        "collapsed": true,
        "id": "fES0OjC5YLGw",
        "outputId": "c315d814-2f70-4747-f6e3-23c3641bdcbd"
      },
      "outputs": [
        {
          "output_type": "stream",
          "name": "stdout",
          "text": [
            "**Conceitos Fundamentais:**\n",
            "\n",
            "* Definição e história da Inteligência Artificial (IA)\n",
            "* Tipos de IA: IA Fraca, IA Forte e IA Geral\n",
            "* Aprendizado de Máquina (ML), Aprendizado Profundo (DL) e Aprendizado por Reforço (RL)\n",
            "* Redes Neurais e Processamento de Linguagem Natural (PNL)\n",
            "\n",
            "**Aplicações da IA:**\n",
            "\n",
            "* Reconhecimento de Imagem e Vídeo\n",
            "* Processamento de Linguagem Natural (PNL) e Chatbots\n",
            "* Diagnóstico Médico e Ciência da Saúde\n",
            "* Veículos Autônomos e Robótica\n",
            "* Finanças e Previsão Econômica\n",
            "\n",
            "**Ética e Implicações Sociais da IA:**\n",
            "\n",
            "* Viés e Discriminação em Algoritmos de IA\n",
            "* Privacidade e Segurança de Dados\n",
            "* Impacto no Emprego e Desigualdade Social\n",
            "* Regulamentação e Políticas de IA\n",
            "\n",
            "**Ferramentas e Tecnologias de IA:**\n",
            "\n",
            "* Bibliotecas de IA populares (por exemplo, TensorFlow, PyTorch)\n",
            "* Plataformas de Nuvem para IA (por exemplo, AWS, Azure, GCP)\n",
            "* Ferramentas de Visualização e Interpretação de Dados\n",
            "* Computação de Alto Desempenho (HPC) e Computação em Nuvem\n",
            "\n",
            "**Tendências e Avanços da IA:**\n",
            "\n",
            "* IA Generativa (por exemplo, GPT-3, DALL-E 2)\n",
            "* IA Explicável e Interpretável\n",
            "* IA em Borda e Computação de Borda\n",
            "* IA Quântica e Computação Quântica\n",
            "\n",
            "**Recursos Adicionais:**\n",
            "\n",
            "* [Coursera: Especialização em Aprendizado de Máquina](https://www.coursera.org/specializations/machine-learning)\n",
            "* [edX: Curso de Introdução à Inteligência Artificial](https://www.edx.org/course/introduction-artificial-intelligence)\n",
            "* [MIT OpenCourseWare: Curso de Inteligência Artificial](https://ocw.mit.edu/courses/electrical-engineering-and-computer-science/6-034-artificial-intelligence-fall-2010/)\n",
            "* [Livro: Inteligência Artificial: Uma Abordagem Moderna](https://www.amazon.com/Artificial-Intelligence-Modern-Approach-3rd/dp/0136042597)\n"
          ]
        }
      ],
      "source": [
        "response = model.generate_content(\"Vamos aprender conteúdos sobre IA. Me dê sugestões.\")\n",
        "print(response.text)"
      ]
    },
    {
      "cell_type": "code",
      "execution_count": null,
      "metadata": {
        "id": "KMadedCFYh69"
      },
      "outputs": [],
      "source": [
        "chat = model.start_chat(history=[])"
      ]
    },
    {
      "cell_type": "code",
      "execution_count": 40,
      "metadata": {
        "colab": {
          "base_uri": "https://localhost:8080/",
          "height": 332
        },
        "collapsed": true,
        "id": "T897VLPdZBsz",
        "outputId": "d352ea6d-ff60-46cc-fe33-0ad4dcae58fb"
      },
      "outputs": [
        {
          "name": "stdout",
          "output_type": "stream",
          "text": [
            "Esperando o prompt: Qual é a capital do Japão ?\n",
            "Resposta:  Tóquio \n",
            "\n",
            "Esperando o prompt: Qual é o número de habitantes de Tóquio?\n",
            "Resposta:  Cerca de 14 milhões (estimativa de 2023) \n",
            "\n",
            "Esperando o prompt: Qual é a culinária mais famosa de Tóquio?\n",
            "Resposta:  **Sushi**\n",
            "\n",
            "O sushi é um prato japonês tradicional feito com arroz avinagrado combinado com vários ingredientes, como frutos do mar, vegetais e ovos. É geralmente servido com molho de soja, wasabi e gengibre em conserva. O sushi é um alimento básico da culinária japonesa e é apreciado em todo o mundo. \n",
            "\n",
            "Esperando o prompt: E o centro histórico mais visitado de Tóquio?\n",
            "Resposta:  **Asakusa**\n",
            "\n",
            "Asakusa é um bairro histórico e um dos destinos turísticos mais populares de Tóquio. É conhecido pelo Templo Senso-ji, o templo budista mais antigo de Tóquio, e pela Nakamise-dori, uma rua comercial tradicional que leva ao templo. Asakusa também abriga muitos outros pontos turísticos, como o Museu Edo-Tóquio, o Parque Sumida e o Tokyo Skytree. \n",
            "\n",
            "Esperando o prompt: fim\n"
          ]
        }
      ],
      "source": [
        "prompt = input(\"Esperando o prompt: \")\n",
        "\n",
        "while prompt != \"fim\":\n",
        "  response = chat.send_message(prompt)\n",
        "  print(\"Resposta: \", response.text, \"\\n\")\n",
        "  prompt = input(\"Esperando o prompt: \")"
      ]
    },
    {
      "cell_type": "code",
      "execution_count": 42,
      "metadata": {
        "colab": {
          "base_uri": "https://localhost:8080/"
        },
        "collapsed": true,
        "id": "wOTXnWbfhJAH",
        "outputId": "36cb2d42-da85-4e0b-8953-f3f0aa09e0ee"
      },
      "outputs": [
        {
          "output_type": "execute_result",
          "data": {
            "text/plain": [
              "[parts {\n",
              "   text: \"Qual a capital do jap\\303\\243o ?\"\n",
              " }\n",
              " role: \"user\",\n",
              " parts {\n",
              "   text: \"T\\303\\263quio\"\n",
              " }\n",
              " role: \"model\",\n",
              " parts {\n",
              "   text: \"Quantos habitantes h\\303\\241 em T\\303\\263quio?\"\n",
              " }\n",
              " role: \"user\",\n",
              " parts {\n",
              "   text: \"Cerca de 14 milh\\303\\265es (estimativa de 2023)\"\n",
              " }\n",
              " role: \"model\",\n",
              " parts {\n",
              "   text: \"Ol\\303\\241, comento muita energia ?\"\n",
              " }\n",
              " role: \"user\",\n",
              " parts {\n",
              "   text: \"**Fontes de Energia Renov\\303\\241vel:**\\n\\n* **Energia Solar:** Captura a luz solar e a converte em eletricidade.\\n* **Energia E\\303\\263lica:** Usa turbinas para converter a energia cin\\303\\251tica do vento em eletricidade.\\n* **Energia Hidrel\\303\\251trica:** Usa a for\\303\\247a da \\303\\241gua corrente ou em queda para gerar eletricidade.\\n* **Energia Geot\\303\\251rmica:** Aproveita o calor do interior da Terra para gerar eletricidade ou aquecer edif\\303\\255cios.\\n* **Energia das Mar\\303\\251s:** Usa o movimento das mar\\303\\251s para gerar eletricidade.\\n* **Biomassa:** Converte mat\\303\\251ria org\\303\\242nica (como madeira, res\\303\\255duos agr\\303\\255colas e lixo) em energia.\\n\\n**Fontes de Energia N\\303\\243o Renov\\303\\241vel:**\\n\\n* **Combust\\303\\255veis F\\303\\263sseis (Carv\\303\\243o, Petr\\303\\263leo, G\\303\\241s Natural):** Queimados para gerar calor ou eletricidade.\\n* **Energia Nuclear:** Usa a fiss\\303\\243o nuclear para gerar calor, que \\303\\251 ent\\303\\243o usado para gerar eletricidade.\\n\\n**Outras Fontes de Energia:**\\n\\n* **Baterias:** Armazenam energia el\\303\\251trica para uso posterior.\\n* **Pilhas de Combust\\303\\255vel:** Convertem combust\\303\\255vel (como hidrog\\303\\252nio) em eletricidade.\\n* **Energia Muscular:** Energia gerada pelo movimento humano.\"\n",
              " }\n",
              " role: \"model\",\n",
              " parts {\n",
              "   text: \"Qual o primeiro evento hist\\303\\263rico de monstros bibl\\303\\255cos ?\"\n",
              " }\n",
              " role: \"user\",\n",
              " parts {\n",
              "   text: \"O primeiro evento hist\\303\\263rico de monstros b\\303\\255blicos \\303\\251 o **Dil\\303\\272vio**, conforme descrito no livro de G\\303\\252nesis.\\n\\n**G\\303\\252nesis 6-8**\\n\\n* Deus envia um dil\\303\\272vio para destruir a Terra devido \\303\\240 maldade da humanidade.\\n* No\\303\\251, um homem justo, \\303\\251 instru\\303\\255do a construir uma arca para salvar sua fam\\303\\255lia e pares de todos os animais.\\n* A chuva cai por 40 dias e 40 noites, inundando toda a Terra.\\n* A arca de No\\303\\251 flutua sobre as \\303\\241guas, preservando a vida dentro dela.\\n* Ap\\303\\263s 150 dias, as \\303\\241guas recuam e a arca pousa no Monte Ararate.\\n* No\\303\\251 e sua fam\\303\\255lia saem da arca e repovoam a Terra.\\n\\nO Dil\\303\\272vio \\303\\251 visto como um evento hist\\303\\263rico significativo na B\\303\\255blia, pois destruiu a antiga ordem mundial e deu in\\303\\255cio a uma nova. Tamb\\303\\251m \\303\\251 visto como um s\\303\\255mbolo do julgamento de Deus sobre o pecado e da sua miseric\\303\\263rdia para com aqueles que o seguem.\"\n",
              " }\n",
              " role: \"model\",\n",
              " parts {\n",
              "   text: \"Qual a capital da coreia do sul ?\"\n",
              " }\n",
              " role: \"user\",\n",
              " parts {\n",
              "   text: \"Seul\"\n",
              " }\n",
              " role: \"model\",\n",
              " parts {\n",
              "   text: \"quantos habitantes existem em seul ?\"\n",
              " }\n",
              " role: \"user\",\n",
              " parts {\n",
              "   text: \"Cerca de 9,9 milh\\303\\265es (estimativa de 2023)\"\n",
              " }\n",
              " role: \"model\",\n",
              " parts {\n",
              "   text: \"qual a comida mais popular de seul ?\"\n",
              " }\n",
              " role: \"user\",\n",
              " parts {\n",
              "   text: \"**Kimchi**\\n\\nO kimchi \\303\\251 um prato tradicional coreano feito de repolho fermentado e outros vegetais, como rabanete, cebolinha e alho. \\303\\211 temperado com uma pasta picante feita de pimenta vermelha em p\\303\\263, alho, gengibre e molho de peixe. O kimchi \\303\\251 servido como acompanhamento em quase todas as refei\\303\\247\\303\\265es na Coreia do Sul e tamb\\303\\251m \\303\\251 usado como ingrediente em muitos outros pratos, como sopas, ensopados e panquecas.\"\n",
              " }\n",
              " role: \"model\",\n",
              " parts {\n",
              "   text: \"Qual \\303\\251 a capital do Jap\\303\\243o ?\"\n",
              " }\n",
              " role: \"user\",\n",
              " parts {\n",
              "   text: \"T\\303\\263quio\"\n",
              " }\n",
              " role: \"model\",\n",
              " parts {\n",
              "   text: \"Qual \\303\\251 o n\\303\\272mero de habitantes de T\\303\\263quio?\"\n",
              " }\n",
              " role: \"user\",\n",
              " parts {\n",
              "   text: \"Cerca de 14 milh\\303\\265es (estimativa de 2023)\"\n",
              " }\n",
              " role: \"model\",\n",
              " parts {\n",
              "   text: \"Qual \\303\\251 a culin\\303\\241ria mais famosa de T\\303\\263quio?\"\n",
              " }\n",
              " role: \"user\",\n",
              " parts {\n",
              "   text: \"**Sushi**\\n\\nO sushi \\303\\251 um prato japon\\303\\252s tradicional feito com arroz avinagrado combinado com v\\303\\241rios ingredientes, como frutos do mar, vegetais e ovos. \\303\\211 geralmente servido com molho de soja, wasabi e gengibre em conserva. O sushi \\303\\251 um alimento b\\303\\241sico da culin\\303\\241ria japonesa e \\303\\251 apreciado em todo o mundo.\"\n",
              " }\n",
              " role: \"model\",\n",
              " parts {\n",
              "   text: \"E o centro hist\\303\\263rico mais visitado de T\\303\\263quio?\"\n",
              " }\n",
              " role: \"user\",\n",
              " parts {\n",
              "   text: \"**Asakusa**\\n\\nAsakusa \\303\\251 um bairro hist\\303\\263rico e um dos destinos tur\\303\\255sticos mais populares de T\\303\\263quio. \\303\\211 conhecido pelo Templo Senso-ji, o templo budista mais antigo de T\\303\\263quio, e pela Nakamise-dori, uma rua comercial tradicional que leva ao templo. Asakusa tamb\\303\\251m abriga muitos outros pontos tur\\303\\255sticos, como o Museu Edo-T\\303\\263quio, o Parque Sumida e o Tokyo Skytree.\"\n",
              " }\n",
              " role: \"model\"]"
            ]
          },
          "metadata": {},
          "execution_count": 42
        }
      ],
      "source": [
        "chat.history"
      ]
    }
  ],
  "metadata": {
    "colab": {
      "provenance": [],
      "authorship_tag": "ABX9TyNvKT3WiSMpqj7jtSf1Fwh+",
      "include_colab_link": true
    },
    "kernelspec": {
      "display_name": "Python 3",
      "name": "python3"
    },
    "language_info": {
      "name": "python"
    }
  },
  "nbformat": 4,
  "nbformat_minor": 0
}